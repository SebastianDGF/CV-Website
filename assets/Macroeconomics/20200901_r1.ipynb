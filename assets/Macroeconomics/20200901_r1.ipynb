{
 "cells": [
  {
   "cell_type": "markdown",
   "id": "2233886a",
   "metadata": {},
   "source": [
    "# Reporte 1\n",
    "\n",
    "##### Curso: Fundamentos de Macroeconomía (0651)\n",
    "##### Nombre: Sebastián Daniel Gómez Farje\n",
    "##### Código: 20200901\n",
    "##### Fecha: 2/9/2022"
   ]
  },
  {
   "cell_type": "markdown",
   "id": "fa060b31",
   "metadata": {},
   "source": [
    "## Parte 1: Reporte de Lectura"
   ]
  },
  {
   "cell_type": "markdown",
   "id": "e1804cb6",
   "metadata": {},
   "source": [
    "En su artículo 'Las Vacas Flacas en la Economía Peruana', Oscar Dancourt explica el fenómeno de las épocas de \"vacas flacas\" en el Perú. Este fenómeno es definido como épocas en las que prevalece la recesión y la actividad económica decrece, factores vinculados a los bajos precios de las materias primas. El autor describe el choque que estos periodos tienen sobre la economía peruana, prestando especial énfasis al impacto que la última \"vaca flaca\" tuvo en el periodo 2014-2015. A continuación, se presentará el artículo, sus propuestas y contribución al tema de la economía peruana.\n",
    "\n",
    "La pregunta de investigación que el autor indirectamente presenta para su artículo es la siguiente: ¿Cómo se explican los retos macroeconómicos de épocas de \"vacas flacas\", y las políticas monetarias y fiscales utilizadas para afrontarlos en el periodo 2014-2015? Con este fin, el artículo primero describe el gran choque externo adverso sufrido por la economía en el periodo 2014-2015, así como analiza el impacto inflacionario que tuvo. Posteriormente, se describen las políticas fiscales y monetarias que fueron utilizadas como respuesta. Finalmente, el artículo culmina listando las tareas que el nuevo gobierno de Pedro Pablo Kuczinski deberá sobrellevar para combatir este problema.\n",
    "\n",
    "El documento presenta tanto fortalezas como debilidades para responder la pregunta. En cuanto a las fortalezas, la herramienta estadística que ofrece el artículo es de vital importancia para comprobar lo que se quiere explicar. Es decir, el autor no solo recurre a datos numéricos extraídos de fuentes escritas, sino también a las mismas bases de datos de fuentes como el BCRP. Entonces, hay un sustento estadístico aún más sólido para demostrar los efectos macroeconomicos que se explican en el texto. Por el otro lado, una debilidad del artículo es que solo utiliza una fuente para los gráficos, el BCRP. Es evidente que esta es probablemente la mejor fuente para ser utilizada en artículos que traten de este tema, pero siempre es beneficioso diversificar las fuentes, así como se ha hecho en el texto mismo, que sí cuenta con diversidad de referencias bibliográficas. Otra potencial debilidad podría ser que se están explorando solamente los efectos de las causas. Por ejemplo, cuando se explica la diferencia del accionar del BCRP en cuanto a la política monetaria, solo se explica que, a diferencia del periodo 2008-2009 donde sí se respondió a la \"vaca flaca\" con un agresivo ciclo de reducciones de la tasa de interés de referencia, en el periodo 2014-2015 el BCRP se limitó a moderar la subida del tipo de cambio. Se deja a entender antes en el texto que lo que se debe hacer, según Keynes, sería la acción tomada en el periodo 2008-2009 y no la del 2014-2015. No obstante, el texto no profundiza en el porqué de esta diferencia en el accionar, es decir, no se explora las causas de los efectos i.e. ¿por qué sí se actuó bien en 2008 y en 2014 cambió la estrategia?\n",
    "\n",
    "La contribución más evidente que el documento presenta al tema es el mismo análisis del periodo 2014-2015. Al contar con una pregunta de investigación con un marco temporal tan específico y reciente para el momento (entendiendo que el artículo original es de 2016), la información que provee sobre el estado de la economía peruana durante esa \"vaca flaca\" es novedoso. Básicamente lo que el autor está haciendo es reportar y explicar cómo se está desarrollando este nuevo periodo de \"vaca flaca\", no es que esté haciendo un aporte significativo a una pregunta ya investigada a fondo durante muchos años. Es probable que una de las intenciones del editor en publicar el artículo sea porque es tan específico en un tema que es reciente y que además cuenta con recomendaciones para el accionar del gobierno de turno. Entonces, no es que se esté aportando acerca de un nuevo tipo de \"vaca flaca\" o novedosas medidas fiscales y monetarias para contrarrestarla, tan solo se está describiendo el desarrollo de este fenómeno en el periodo 2014-2015, fenómeno que ya ha sido estudiado en otros trabajos, pero acerca de otros periodos de \"vacas flacas\" anteriores.\n",
    "\n",
    "Continuar esta pregunta de investigación más allá de este artículo sería una mirada retrospectiva acerca del accionar del gobierno de Pedro Pablo Kuczynski en cuanto a los retos macroeconómicos, y las medidas monetarias y fiscales iniciados en el periodo 2014-2015. Por ejemplo, el mismo Oscar Dancourt rápidamente aportó más a la pregunta con su artículo 'Las vacas flacas y el primer año del gobierno de PPK', publicado en 2017. Allí, el autor explica el estado de los factores que describió y acerca de los cuales dio recomendaciones en su artículo de 2016: inversión pública, falta de ajuste fiscal, cambiar la meta del déficit fiscal, etc. A grandes rasgos este artículo explica que no se siguieron las recomendaciones de las que habló en el artículo de 2016 y también ofrece nueva data acerca de los años 2016 y 2017. Un artículo similar es 'El Balance Económico a Medio Tiempo', publicado en 2018 por el Instituto Peruano de Economía (IPE). Ese artículo también ofrece una especie de actualización de lo que se sabe de la \"vaca flaca\" iniciada en 2014-2015 y una mirada retrospectiva del accionar del gobierno para contrarestar el choque externo. Similar al artículo de 2017 de Dancourt, se explica cómo fallaron las medidas de PPK. Por ejemplo, como se mencionó en el artículo de Dancourt de 2016, el apegarse a una meta de déficit fiscal tan angosta tan solo causó que, al no llegarse a la meta tan seguido, las decisiones de inversión y consecuentemente la creación de empleos fueron perjudicadas. Pero algo que estos dos artículos posteriores recalcan es la importancia que los escándalos de corrupción como Odebrecht y, más importantemente, El Fenómeno del Niño tuvo en la economía peruana. Estos factores son algo que el artículo de 2016 no pudo haber tenido en cuenta, por lo que resalta el valor de miradas retrospectivas. Ambos factores, corrupción y El Fenómeno del Niño, perjudicaron gravemente a la economía y la capacidad que el gobierno tuvo para contrarestar los efectos macroeconómicos de la \"vaca flaca\", como llevar a cabo las medidas que Dancourt recomendó en 2016. Literatura sobre ambos factores abunda en la actualidad, como por ejemplo el artículo 'Impacto del Fenómeno de El Niño a la Economía Peruana' de Contreras, Martinez, Regalado y Vásquez.\n",
    "\n",
    "Probablemente sería más beneficioso para el tema formular otra pregunta que busque explicar el porqué de las vacas flacas, y las medidas monetarias y fiscales utilizadas para afrontarlas, pero sin un marco temporal tan específico. De esta manera, se podría profundizar en el fenómeno en sí y no en la ocurrencia de ese fenómeno en un solo momento determinado. Alternativamente, la pregunta se podría reformular en la actualidad cambiando el periodo de tiempo 2014-2015 a uno más reciente. De esta manera, se podría hacer lo que aquel artículo hizo en su época para el presente de hoy: explicar el porqué de la situación macroeconómica actual y proveer recomendaciones de como afrontarlo."
   ]
  },
  {
   "cell_type": "markdown",
   "id": "a7482d3c",
   "metadata": {},
   "source": [
    "## Parte 2: Código\n",
    "\n",
    "##### 1. Derive y explique la función de demanda de Consumo"
   ]
  },
  {
   "cell_type": "code",
   "execution_count": 9,
   "id": "c47da64d",
   "metadata": {},
   "outputs": [],
   "source": [
    "%matplotlib widget\n",
    "%matplotlib inline\n",
    "import ipywidgets as widgets\n",
    "import matplotlib.pyplot as plt\n",
    "import numpy as np\n",
    "import sympy as sy\n",
    "from sympy import *\n",
    "import pandas as pd\n",
    "from causalgraphicalmodels import CausalGraphicalModel"
   ]
  },
  {
   "cell_type": "code",
   "execution_count": 50,
   "id": "05da81b3",
   "metadata": {},
   "outputs": [],
   "source": [
    "# Parámetros\n",
    "\n",
    "Tamaño_Yd = 40\n",
    "\n",
    "Co = 10\n",
    "b = 0.5\n",
    "\n",
    "Yd = np.arange(Tamaño_Yd)\n",
    "\n",
    "# Ecuación de Consumo\n",
    "\n",
    "def Ecuación_C(Co, b, Yd):\n",
    "    Ecuación_C = (Co + b*Yd)\n",
    "    return Ecuación_C\n",
    "\n",
    "Ecuación_C = Ecuación_C(Co, b, Yd)"
   ]
  },
  {
   "cell_type": "code",
   "execution_count": 43,
   "id": "f942bc61",
   "metadata": {},
   "outputs": [],
   "source": [
    "Bruh = 1\n",
    "\n",
    "def Blanco(Bruh, Yd):\n",
    "    Blanco = Bruh*Yd\n",
    "    return Blanco\n",
    "\n",
    "Blanco = Blanco(Bruh, Yd)"
   ]
  },
  {
   "cell_type": "code",
   "execution_count": 56,
   "id": "aba9bae7",
   "metadata": {},
   "outputs": [
    {
     "data": {
      "text/plain": [
       "[Text(0.5, 1.0, 'Función de Demanda de Consumo'),\n",
       " Text(0.5, 0, 'Y^d'),\n",
       " Text(0, 0.5, 'C')]"
      ]
     },
     "execution_count": 56,
     "metadata": {},
     "output_type": "execute_result"
    },
    {
     "data": {
      "image/png": "[encoded data removed]",
      "text/plain": [
       "<Figure size 720x576 with 1 Axes>"
      ]
     },
     "metadata": {
      "needs_background": "light"
     },
     "output_type": "display_data"
    }
   ],
   "source": [
    "#Gráfico\n",
    "\n",
    "y_max = np.max(Ecuación_C)\n",
    "\n",
    "fig, ax = plt.subplots(figsize=(10, 8))\n",
    "\n",
    "ax.plot(Yd, Blanco, color = \"White\") #Sin esto pareciera que la recta parte del (0,0)\n",
    "ax.plot(Yd, Ecuación_C, label = \"Consumo\", color = \"Gold\")\n",
    "\n",
    "ax.set(title = \"Función de Demanda de Consumo\", xlabel = r'Y^d', ylabel = r'C')"
   ]
  },
  {
   "cell_type": "markdown",
   "id": "a03ef95f",
   "metadata": {},
   "source": [
    "La Función de Demanda de Consumo utiliza tres valores..."
   ]
  },
  {
   "cell_type": "markdown",
   "id": "18086159",
   "metadata": {},
   "source": [
    "$$ C = C_0 + bY^d $$"
   ]
  },
  {
   "cell_type": "markdown",
   "id": "680d7974",
   "metadata": {},
   "source": [
    "El consumo estable en la economía, también llamado consumo autónomo:\n",
    "$$ C_0 $$ "
   ]
  },
  {
   "cell_type": "markdown",
   "id": "f5303b0a",
   "metadata": {},
   "source": [
    "Propensión marginal a consumir, que sirve como la pendiente de la ecuación:\n",
    "$$ b $$"
   ]
  },
  {
   "cell_type": "markdown",
   "id": "6d0787f8",
   "metadata": {},
   "source": [
    "Ingreso disponible, que se obtiene sustrayendo la tasa impositiva al ingreso agregado total del país:\n",
    "$$ Y^d $$"
   ]
  },
  {
   "cell_type": "markdown",
   "id": "634dceb1",
   "metadata": {},
   "source": [
    "Entonces, se entiende que el Consumo (C) es resultado de una suma. Por un lado, se tiene en cuenta el valor del consumo autónomo (C0), el cual nunca va a dejar de haber en la economía. A esto se le adiciona la multiplicación entre la propensión marginal a consumir (b) y el ingreso disponible (Yd). Es decir, se le adiciona el porcentaje (b) del ingreso disponible total de la economía (Yd) que la población está dispuesta a usar para consumir."
   ]
  },
  {
   "cell_type": "markdown",
   "id": "6537e924",
   "metadata": {},
   "source": [
    "##### 2. Derive y explique la función de Inversión"
   ]
  },
  {
   "cell_type": "code",
   "execution_count": 81,
   "id": "3123cf37",
   "metadata": {},
   "outputs": [],
   "source": [
    "# Parámetros\n",
    "\n",
    "Tamaño_r = 2\n",
    "\n",
    "Io = 10\n",
    "h = 0.4\n",
    "\n",
    "r = np.arange(Tamaño_r)\n",
    "\n",
    "# Ecuación de Inversión\n",
    "\n",
    "def Ecuación_I(Io, h, r):\n",
    "    Ecuación_I = (Io - (h*r))\n",
    "    return Ecuación_I\n",
    "\n",
    "Ecuación_I = Ecuación_I(Io, h, r)"
   ]
  },
  {
   "cell_type": "code",
   "execution_count": 85,
   "id": "5188d0a1",
   "metadata": {},
   "outputs": [
    {
     "data": {
      "text/plain": [
       "[Text(0.5, 1.0, 'Función de Demanda de Inversión'),\n",
       " Text(0.5, 0, 'r'),\n",
       " Text(0, 0.5, 'I')]"
      ]
     },
     "execution_count": 85,
     "metadata": {},
     "output_type": "execute_result"
    },
    {
     "data": {
      "image/png": "[encoded data removed]",
      "text/plain": [
       "<Figure size 720x576 with 1 Axes>"
      ]
     },
     "metadata": {
      "needs_background": "light"
     },
     "output_type": "display_data"
    }
   ],
   "source": [
    "#Gráfico\n",
    "\n",
    "y_max = np.max(Ecuación_I)\n",
    "\n",
    "fig, ax = plt.subplots(figsize=(10, 8))\n",
    "\n",
    "ax.plot(r, Ecuación_I, label = \"Inversión\", color = \"Lightblue\")\n",
    "\n",
    "ax.set(title = \"Función de Demanda de Inversión\", xlabel = r'r', ylabel = r'I')"
   ]
  },
  {
   "cell_type": "markdown",
   "id": "cc226b00",
   "metadata": {},
   "source": [
    "La Función de Demanda de Inversión utiliza tres valores..."
   ]
  },
  {
   "cell_type": "markdown",
   "id": "589c248d",
   "metadata": {},
   "source": [
    "$$ I = I_0 - hr $$"
   ]
  },
  {
   "cell_type": "markdown",
   "id": "099e1f58",
   "metadata": {},
   "source": [
    "La inversión fija en la economía, también llamada inversión autónoma:\n",
    "$$ I_0 $$"
   ]
  },
  {
   "cell_type": "markdown",
   "id": "9fbe4e3a",
   "metadata": {},
   "source": [
    "Sensibilidad de los inversionistas a la tasa, que sirve como la pendiente de la ecuación:\n",
    "$$ h $$"
   ]
  },
  {
   "cell_type": "markdown",
   "id": "5082ce73",
   "metadata": {},
   "source": [
    "Tasa de interés real pasiva del país:\n",
    "$$ r $$"
   ]
  },
  {
   "cell_type": "markdown",
   "id": "2443cdaf",
   "metadata": {},
   "source": [
    "Entonces, se entiende que la Inversión (I) es el resultado de una resta. En primera instancia existe una inversión fija o autónoma (I0) que simplemente existe en la economía. A esto se le resta la multiplicación entre la sensibilidad de los inversores a la tasa (h) y la tasa de interés real pasiva (r). Es decir, cada vez que aumenta la tasa de interés real pasiva (r), decrecerá la Inversión (I) dependiendo de cuán sensible sean los inversores a estos cambios (h). Lógicamente, si hay mayor tasa de interés, es considerado menos lucrativo invertir en aquel lugar."
   ]
  },
  {
   "cell_type": "markdown",
   "id": "1b41a4cc",
   "metadata": {},
   "source": [
    "##### 3. ¿Cuáles son los supuestos del modelo Ingreso-Gasto Keynesiano?"
   ]
  },
  {
   "cell_type": "markdown",
   "id": "7636db9a",
   "metadata": {},
   "source": [
    "- El nivel de precios está fijo\n",
    "- El nivel del producto se adapta a los cambios en la demanda agregada (el producto se adapta en función a la demanda agragada)\n",
    "- La tasa de interés está determinada fuera del modelo (se determina en el mercado monetario)\n",
    "- Es un modelo a corto plazo"
   ]
  },
  {
   "cell_type": "markdown",
   "id": "fa728757",
   "metadata": {},
   "source": [
    "##### 4.1. Encuentre el nivel de Ingreso de equilibrio"
   ]
  },
  {
   "cell_type": "markdown",
   "id": "a6aa7a3a",
   "metadata": {},
   "source": [
    "Función de Consumo: $$ C = C_0 + bY^d $$\n",
    "Función de Inversión: $$ I = I_0 - hr $$\n",
    "Gasto de Gobierno: $$ G = G_0 $$\n",
    "Exportaciones: $$ X = X_0 $$\n",
    "Importaciones: $$ M = mY^d $$\n",
    "\n",
    "Gasto o Demanda Agregada: $$ DA = C + I + G + X - M $$"
   ]
  },
  {
   "cell_type": "markdown",
   "id": "9982bbd5",
   "metadata": {},
   "source": [
    "$$ Convertimos... $$"
   ]
  },
  {
   "cell_type": "markdown",
   "id": "df80a9fe",
   "metadata": {},
   "source": [
    "$$ DA = C_0 + bY^d + I_0 - hr + G_0 + X_0 - mY^d $$\n",
    "$$ DA = C_0 + b(1-t)Y + I_0 - hr + G_0 + X_0 - m(1-t)Y $$"
   ]
  },
  {
   "cell_type": "markdown",
   "id": "9e7cfb54",
   "metadata": {},
   "source": [
    "$$ DA = C_0 + I_0 - hr + G_0 + X_0  +  b(1-t)Y - m(1-t)Y $$\n",
    "$$ DA = C_0 + I_0 - hr + G_0 + X_0  +  (b-m)(1-t)Y $$"
   ]
  },
  {
   "cell_type": "markdown",
   "id": "017ff839",
   "metadata": {},
   "source": [
    "$$ Entonces... $$"
   ]
  },
  {
   "cell_type": "markdown",
   "id": "e88af61f",
   "metadata": {},
   "source": [
    "Si se sabe que en el punto de equilibrio es el punto en que DA es equivalente a Y"
   ]
  },
  {
   "cell_type": "markdown",
   "id": "fa395e2a",
   "metadata": {},
   "source": [
    "$$ C_0 + I_0 - hr + G_0 + X_0 + (b-m)(1-t)Y = Y $$\n",
    "$$ C_0 + I_0 - hr + G_0 + X_0 = Y - (b-m)(1-t)Y $$\n",
    "$$ C_0 + I_0 - hr + G_0 + X_0 = (1 - (b-m)(1-t))Y $$\n"
   ]
  },
  {
   "cell_type": "markdown",
   "id": "fc147207",
   "metadata": {},
   "source": [
    "$$Finalmente: $$"
   ]
  },
  {
   "cell_type": "markdown",
   "id": "50acead5",
   "metadata": {},
   "source": [
    "$$ Y = \\frac{1}{1 - (b - m)(1 - t)} (C_0 + I_0 - hr + G_0 + X_0) $$"
   ]
  },
  {
   "cell_type": "markdown",
   "id": "12f2bd23",
   "metadata": {},
   "source": [
    "Y así se obtiene el Ingreso de equilibrio de forma matemática"
   ]
  },
  {
   "cell_type": "markdown",
   "id": "36d1c852",
   "metadata": {},
   "source": [
    "$$ Y^e = \\frac{1}{1 - (b - m)(1 - t)} (C_0 + I_0 - hr + G_0 + X_0) $$"
   ]
  },
  {
   "cell_type": "markdown",
   "id": "79183f89",
   "metadata": {},
   "source": [
    "##### 4.2. Hacer gráfico"
   ]
  },
  {
   "cell_type": "code",
   "execution_count": 89,
   "id": "c8559113",
   "metadata": {},
   "outputs": [],
   "source": [
    "# Parámetros\n",
    "\n",
    "Tamaño_Y = 100 \n",
    "\n",
    "Co = 40\n",
    "Io = 35\n",
    "Go = 20\n",
    "Xo = 5\n",
    "h = 0.2\n",
    "b = 0.9\n",
    "m = 0.1\n",
    "t = 0.7\n",
    "r = 0.7\n",
    "\n",
    "Y = np.arange(Tamaño_Y)\n",
    "\n",
    "# Ecuación \n",
    "\n",
    "def Ejercicio_4(Co, Io, Go, Xo, h, r, b, m, t, Y):\n",
    "    Ejercicio_4 = (Co + Io + Go + Xo - h*r) + ((b - m)*(1 - t)*Y)\n",
    "    return Ejercicio_4\n",
    "\n",
    "Ejercicio_4 = Ejercicio_4(Co, Io, Go, Xo, h, r, b, m, t, Y)"
   ]
  },
  {
   "cell_type": "code",
   "execution_count": 87,
   "id": "730905b4",
   "metadata": {},
   "outputs": [],
   "source": [
    "# Recta de 45 grados\n",
    "\n",
    "a = 2.5 \n",
    "\n",
    "def Grados_45(a, Y):\n",
    "    Grados_45 = a*Y\n",
    "    return Grados_45\n",
    "\n",
    "Grados_45 = Grados_45(a, Y)"
   ]
  },
  {
   "cell_type": "code",
   "execution_count": 120,
   "id": "3904c48d",
   "metadata": {},
   "outputs": [
    {
     "data": {
      "text/plain": [
       "Text(48, 80, '$α_0 = (C_0 + I_0 + G_0 + X_0 -  hr)$')"
      ]
     },
     "execution_count": 120,
     "metadata": {},
     "output_type": "execute_result"
    },
    {
     "data": {
      "image/png": "[encoded data removed]",
      "text/plain": [
       "<Figure size 720x576 with 1 Axes>"
      ]
     },
     "metadata": {},
     "output_type": "display_data"
    }
   ],
   "source": [
    "# Gráfico\n",
    "\n",
    "y_max = np.max(Ejercicio_4)\n",
    "\n",
    "fig, ax = plt.subplots(figsize=(10, 8))\n",
    "\n",
    "ax.plot(Ejercicio_4, label = \"DA\", color = \"Green\")\n",
    "ax.plot(Grados_45, color = \"LightBlue\")\n",
    "\n",
    "ax.yaxis.set_major_locator(plt.NullLocator())   \n",
    "ax.xaxis.set_major_locator(plt.NullLocator())\n",
    "\n",
    "plt.axvline(x=44,  ymin= 0, ymax= 0.455, linestyle = \":\", color = \"Black\")\n",
    "plt.axhline(y=111, xmin= 0, xmax= 0.455, linestyle = \":\", color = \"Black\")\n",
    "\n",
    "plt.text(0, 120, '$DA^e$', fontsize = 12, color = 'Grey')\n",
    "plt.text(47, 0, '$Y^e$', fontsize = 12, color = 'Grey')\n",
    "plt.text(0, 80, '$α_o$', fontsize = 15, color = 'Grey')\n",
    "\n",
    "plt.text(6, 4, '$45°$', fontsize = 11.5, color = 'Black')\n",
    "plt.text(2.5, -3, '$◝$', fontsize = 30, color = 'Black')\n",
    "\n",
    "ax.set(title=\"El ingreso de Equilibrio a Corto Plazo\", xlabel= r'Y', ylabel= r'DA')\n",
    "\n",
    "plt.text(80, 130, '$DA = α_o + α_1Y$')\n",
    "plt.text(80, 105, '$α_1Y = (b-m)(1-t)$')\n",
    "\n",
    "plt.axhline(y=100, xmin= 0, xmax= 0.7, linestyle = \":\", color = \"Black\")\n",
    "plt.text(48, 80, '$α_0 = (C_0 + I_0 + G_0 + X_0 -  hr)$')"
   ]
  },
  {
   "cell_type": "code",
   "execution_count": null,
   "id": "f47d227a",
   "metadata": {},
   "outputs": [],
   "source": []
  }
 ],
 "metadata": {
  "kernelspec": {
   "display_name": "Python 3 (ipykernel)",
   "language": "python",
   "name": "python3"
  },
  "language_info": {
   "codemirror_mode": {
    "name": "ipython",
    "version": 3
   },
   "file_extension": ".py",
   "mimetype": "text/x-python",
   "name": "python",
   "nbconvert_exporter": "python",
   "pygments_lexer": "ipython3",
   "version": "3.9.12"
  }
 },
 "nbformat": 4,
 "nbformat_minor": 5
}
